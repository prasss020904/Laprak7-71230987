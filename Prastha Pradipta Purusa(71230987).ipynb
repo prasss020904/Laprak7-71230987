{
 "cells": [
  {
   "cell_type": "code",
   "execution_count": 7,
   "id": "78d4244c",
   "metadata": {},
   "outputs": [
    {
     "name": "stdout",
     "output_type": "stream",
     "text": [
      "Masukan kata pertama:mata\n",
      "Masukan kata kedua:amta\n",
      "anagram\n"
     ]
    }
   ],
   "source": [
    "def anagram():\n",
    "    kata1 = input(\"Masukan kata pertama:\")\n",
    "    kata2 = input(\"Masukan kata kedua:\")\n",
    "    \n",
    "    kata1_list = list(kata1)\n",
    "    kata2_list = list(kata2)\n",
    "    \n",
    "    kata1_list.sort()\n",
    "    kata2_list.sort()\n",
    "    \n",
    "    if kata1_list == kata2_list:\n",
    "        print(\"anagram\")\n",
    "    else:\n",
    "        print(\"bukan anagram\")\n",
    "        \n",
    "anagram()"
   ]
  },
  {
   "cell_type": "code",
   "execution_count": 8,
   "id": "e2ebcad2",
   "metadata": {},
   "outputs": [
    {
     "name": "stdout",
     "output_type": "stream",
     "text": [
      "makan ada 3 buah\n"
     ]
    }
   ],
   "source": [
    "kalimat = \"Saya mau makan. Makan itu wajib. Mau siang atau malam saya wajib makan\"\n",
    "kata_dicari = \"makan\"\n",
    "\n",
    "kalimat_lower = kalimat.lower()\n",
    "\n",
    "jumlah_muncul = 0\n",
    "for index in range(len(kalimat_lower)):\n",
    "    if kalimat_lower[index:].startswith(kata_dicari):\n",
    "        jumlah_muncul += 1\n",
    "\n",
    "print(f\"{kata_dicari} ada {jumlah_muncul} buah\")\n"
   ]
  },
  {
   "cell_type": "code",
   "execution_count": 5,
   "id": "d53af7e2",
   "metadata": {},
   "outputs": [
    {
     "name": "stdout",
     "output_type": "stream",
     "text": [
      "saya tidak suka memancing ikan\n"
     ]
    }
   ],
   "source": [
    "def normal_spasi(string):\n",
    "    string_normal = ' '.join(string.split())\n",
    "    return string_normal\n",
    "\n",
    "input_string = \"saya tidak suka memancing ikan \"\n",
    "output_string = normal_spasi(input_string)\n",
    "print(output_string)"
   ]
  },
  {
   "cell_type": "code",
   "execution_count": 6,
   "id": "dacfd7d4",
   "metadata": {},
   "outputs": [
    {
     "name": "stdout",
     "output_type": "stream",
     "text": [
      "Masukkan kalimat: red snakes and a black frog in the pool\n",
      "Kata terpanjang: snakes\n",
      "Kata terpendek: a\n"
     ]
    }
   ],
   "source": [
    "def cari_kata(kalimat):\n",
    "    kata = kalimat.split()\n",
    "    kata_terpanjang = max(kata, key=len)\n",
    "    kata_terpendek = min(kata, key=len)\n",
    "    \n",
    "    print(\"Kata terpanjang:\", kata_terpanjang)\n",
    "    print(\"Kata terpendek:\", kata_terpendek)\n",
    "\n",
    "input_kalimat = input(\"Masukkan kalimat: \")\n",
    "cari_kata(input_kalimat)"
   ]
  },
  {
   "cell_type": "code",
   "execution_count": null,
   "id": "b86a7a73",
   "metadata": {},
   "outputs": [],
   "source": []
  }
 ],
 "metadata": {
  "kernelspec": {
   "display_name": "Python 3 (ipykernel)",
   "language": "python",
   "name": "python3"
  },
  "language_info": {
   "codemirror_mode": {
    "name": "ipython",
    "version": 3
   },
   "file_extension": ".py",
   "mimetype": "text/x-python",
   "name": "python",
   "nbconvert_exporter": "python",
   "pygments_lexer": "ipython3",
   "version": "3.11.5"
  }
 },
 "nbformat": 4,
 "nbformat_minor": 5
}
